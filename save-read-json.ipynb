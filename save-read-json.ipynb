{
 "cells": [
  {
   "cell_type": "code",
   "execution_count": 3,
   "metadata": {},
   "outputs": [],
   "source": [
    "#多次元配列の保存(json)\n",
    "\n",
    "import json\n",
    "\n",
    "path = './a.json'\n",
    "\n",
    "a = [\n",
    "    [\n",
    "        [1,2],\n",
    "        [3,4],\n",
    "        [5,6]\n",
    "    ],\n",
    "    [\n",
    "        [7,8],\n",
    "        [9,10],\n",
    "        [11,12]\n",
    "    ]\n",
    "]\n",
    "\n",
    "with open(path, 'w') as file:\n",
    "    json.dump(a, file)"
   ]
  },
  {
   "cell_type": "code",
   "execution_count": 16,
   "metadata": {},
   "outputs": [
    {
     "name": "stdout",
     "output_type": "stream",
     "text": [
      "data:[[[1, 2], [3, 4], [5, 6]], [[7, 8], [9, 10], [11, 12]]]\n",
      "data[0]:[[1, 2], [3, 4], [5, 6]]\n",
      "data[0][1]:[3, 4]\n",
      "data[0][1][0]:3\n"
     ]
    }
   ],
   "source": [
    "#多次元配列の読み込み(json)\n",
    "\n",
    "with open(path, \"r\") as file:\n",
    "    data = json.load(file)\n",
    "\n",
    "print(f'data:{data}')\n",
    "print(f'data[0]:{data[0]}')\n",
    "print(f'data[0][1]:{data[0][1]}')\n",
    "print(f'data[0][1][0]:{data[0][1][0]}')"
   ]
  },
  {
   "cell_type": "code",
   "execution_count": 18,
   "metadata": {},
   "outputs": [],
   "source": [
    "#読み書き込み機能を関数化しても良いかも\n",
    "\n",
    "#書き込み\n",
    "def write_json(data, path):\n",
    "    try:\n",
    "        with open(path, 'w') as file:\n",
    "            json.dump(data, file)\n",
    "        print('write json success!')\n",
    "    except Exception as e:\n",
    "        return e\n",
    "        \n",
    "#読み込み\n",
    "def read_json(path):\n",
    "    try:\n",
    "        with open(path, \"r\") as file:\n",
    "            data = json.load(file)\n",
    "        return data\n",
    "    except Exception as e:\n",
    "        return e"
   ]
  },
  {
   "cell_type": "code",
   "execution_count": 32,
   "metadata": {},
   "outputs": [
    {
     "name": "stdout",
     "output_type": "stream",
     "text": [
      "write json success!\n",
      "[[[1.12, 2], [3, 4], [5, 6]], [[7, 8], [9, 10], [11, 12]]]\n"
     ]
    }
   ],
   "source": [
    "path = './b.json'\n",
    "Ps = [\n",
    "    [\n",
    "        [1.12,2],\n",
    "        [3,4],\n",
    "        [5,6]\n",
    "    ],\n",
    "    [\n",
    "        [7,8],\n",
    "        [9,10],\n",
    "        [11,12]\n",
    "    ]\n",
    "]\n",
    "write_json(Ps, path)\n",
    "data = read_json(path)\n",
    "\n",
    "print(data)"
   ]
  }
 ],
 "metadata": {
  "kernelspec": {
   "display_name": "Python 3",
   "language": "python",
   "name": "python3"
  },
  "language_info": {
   "codemirror_mode": {
    "name": "ipython",
    "version": 3
   },
   "file_extension": ".py",
   "mimetype": "text/x-python",
   "name": "python",
   "nbconvert_exporter": "python",
   "pygments_lexer": "ipython3",
   "version": "3.8.3"
  }
 },
 "nbformat": 4,
 "nbformat_minor": 4
}
